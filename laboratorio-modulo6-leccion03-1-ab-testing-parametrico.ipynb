{
 "cells": [
  {
   "cell_type": "markdown",
   "metadata": {},
   "source": [
    "\n",
    "<div style=\"text-align: center;\">\n",
    "  <img src=\"https://github.com/Hack-io-Data/Imagenes/blob/main/01-LogosHackio/logo_amarillo@4x.png?raw=true\" alt=\"esquema\" />\n",
    "</div>\n",
    "\n",
    "\n",
    "# Laboratorio A/B Testing Parametrico\n"
   ]
  },
  {
   "cell_type": "markdown",
   "metadata": {},
   "source": [
    "#### Ejercicio 1:  Linea de montaje \n",
    "\n",
    "En una fabrica de componenetes textil se quiere comparar el tiempo de fabricacion de un determinado producto mediante tres métodos diferentes.  Se seleccionan aleatoriamente productos elaborados con cada uno de los métodos y se observa el tiempo de fabricación. \n",
    "\n",
    "\n",
    "1. ¿Se verifican los supuestos del modelo de análisis de la varianza?\n",
    "\n",
    "2. ¿Existe evidencia de que el método influye en el tiempo medio de elaboración del producto?\n",
    "\n",
    "3. La empresa valora que el tiempo de fabricación sea el menor posible. ¿Qué método cree que ofrece mejores resultados?"
   ]
  },
  {
   "cell_type": "markdown",
   "metadata": {},
   "source": [
    "_______________________________"
   ]
  },
  {
   "cell_type": "markdown",
   "metadata": {},
   "source": [
    "1. **Ojetivo**: Se desea comprarar el tiempo de fabricación de un determinado producto en tres métodos diferentes y ver si el método influye en el tiempo medio de elaboración del producto y cual es el menor."
   ]
  },
  {
   "cell_type": "markdown",
   "metadata": {},
   "source": [
    "2. **Hipótesis**: \n",
    "\n",
    "    - H0 : el tiempo medio de elaboración no cambia.\n",
    "    - H1 : El tiempo medio de elboración cambia de forma significativa."
   ]
  },
  {
   "cell_type": "markdown",
   "metadata": {},
   "source": [
    "3. **Exploración de los datos y asunciones**"
   ]
  },
  {
   "cell_type": "code",
   "execution_count": 75,
   "metadata": {},
   "outputs": [],
   "source": [
    "import pandas as pd\n",
    "import numpy as np\n",
    "from scipy import stats\n",
    "import seaborn as sns\n",
    "import matplotlib.pyplot as plt\n",
    "import sys\n",
    "import os\n",
    "\n",
    "sys.path.append(os.path.abspath('../'))\n",
    "from src import soporte_abtesting as sa\n"
   ]
  },
  {
   "cell_type": "code",
   "execution_count": 76,
   "metadata": {},
   "outputs": [
    {
     "data": {
      "text/html": [
       "<div>\n",
       "<style scoped>\n",
       "    .dataframe tbody tr th:only-of-type {\n",
       "        vertical-align: middle;\n",
       "    }\n",
       "\n",
       "    .dataframe tbody tr th {\n",
       "        vertical-align: top;\n",
       "    }\n",
       "\n",
       "    .dataframe thead th {\n",
       "        text-align: right;\n",
       "    }\n",
       "</style>\n",
       "<table border=\"1\" class=\"dataframe\">\n",
       "  <thead>\n",
       "    <tr style=\"text-align: right;\">\n",
       "      <th></th>\n",
       "      <th>minutos</th>\n",
       "      <th>metodo</th>\n",
       "    </tr>\n",
       "  </thead>\n",
       "  <tbody>\n",
       "    <tr>\n",
       "      <th>0</th>\n",
       "      <td>4.166484</td>\n",
       "      <td>A</td>\n",
       "    </tr>\n",
       "    <tr>\n",
       "      <th>1</th>\n",
       "      <td>4.887466</td>\n",
       "      <td>A</td>\n",
       "    </tr>\n",
       "    <tr>\n",
       "      <th>2</th>\n",
       "      <td>0.727608</td>\n",
       "      <td>A</td>\n",
       "    </tr>\n",
       "    <tr>\n",
       "      <th>3</th>\n",
       "      <td>8.280542</td>\n",
       "      <td>A</td>\n",
       "    </tr>\n",
       "    <tr>\n",
       "      <th>4</th>\n",
       "      <td>1.413129</td>\n",
       "      <td>A</td>\n",
       "    </tr>\n",
       "    <tr>\n",
       "      <th>...</th>\n",
       "      <td>...</td>\n",
       "      <td>...</td>\n",
       "    </tr>\n",
       "    <tr>\n",
       "      <th>145</th>\n",
       "      <td>7.441723</td>\n",
       "      <td>C</td>\n",
       "    </tr>\n",
       "    <tr>\n",
       "      <th>146</th>\n",
       "      <td>9.085186</td>\n",
       "      <td>C</td>\n",
       "    </tr>\n",
       "    <tr>\n",
       "      <th>147</th>\n",
       "      <td>4.641973</td>\n",
       "      <td>C</td>\n",
       "    </tr>\n",
       "    <tr>\n",
       "      <th>148</th>\n",
       "      <td>6.892396</td>\n",
       "      <td>C</td>\n",
       "    </tr>\n",
       "    <tr>\n",
       "      <th>149</th>\n",
       "      <td>6.894833</td>\n",
       "      <td>C</td>\n",
       "    </tr>\n",
       "  </tbody>\n",
       "</table>\n",
       "<p>150 rows × 2 columns</p>\n",
       "</div>"
      ],
      "text/plain": [
       "      minutos metodo\n",
       "0    4.166484      A\n",
       "1    4.887466      A\n",
       "2    0.727608      A\n",
       "3    8.280542      A\n",
       "4    1.413129      A\n",
       "..        ...    ...\n",
       "145  7.441723      C\n",
       "146  9.085186      C\n",
       "147  4.641973      C\n",
       "148  6.892396      C\n",
       "149  6.894833      C\n",
       "\n",
       "[150 rows x 2 columns]"
      ]
     },
     "execution_count": 76,
     "metadata": {},
     "output_type": "execute_result"
    }
   ],
   "source": [
    "df = pd.read_csv(\"../datos/linea_montaje.csv\")\n",
    "df"
   ]
  },
  {
   "cell_type": "markdown",
   "metadata": {},
   "source": [
    "Hagamos una pequeña exploración:"
   ]
  },
  {
   "cell_type": "code",
   "execution_count": 77,
   "metadata": {},
   "outputs": [
    {
     "name": "stdout",
     "output_type": "stream",
     "text": [
      "El número de datos es 150 y el de columnas es 2\n",
      "\n",
      " ..................... \n",
      "\n",
      "Los duplicados que tenemos en el conjunto de datos son: 0\n",
      "\n",
      " ..................... \n",
      "\n",
      "Los nulos que tenemos en el conjunto de datos son:\n"
     ]
    },
    {
     "data": {
      "text/html": [
       "<div>\n",
       "<style scoped>\n",
       "    .dataframe tbody tr th:only-of-type {\n",
       "        vertical-align: middle;\n",
       "    }\n",
       "\n",
       "    .dataframe tbody tr th {\n",
       "        vertical-align: top;\n",
       "    }\n",
       "\n",
       "    .dataframe thead th {\n",
       "        text-align: right;\n",
       "    }\n",
       "</style>\n",
       "<table border=\"1\" class=\"dataframe\">\n",
       "  <thead>\n",
       "    <tr style=\"text-align: right;\">\n",
       "      <th></th>\n",
       "      <th>%_nulos</th>\n",
       "    </tr>\n",
       "  </thead>\n",
       "  <tbody>\n",
       "  </tbody>\n",
       "</table>\n",
       "</div>"
      ],
      "text/plain": [
       "Empty DataFrame\n",
       "Columns: [%_nulos]\n",
       "Index: []"
      ]
     },
     "metadata": {},
     "output_type": "display_data"
    },
    {
     "name": "stdout",
     "output_type": "stream",
     "text": [
      "\n",
      " ..................... \n",
      "\n",
      "Los tipos de las columnas son:\n"
     ]
    },
    {
     "data": {
      "text/html": [
       "<div>\n",
       "<style scoped>\n",
       "    .dataframe tbody tr th:only-of-type {\n",
       "        vertical-align: middle;\n",
       "    }\n",
       "\n",
       "    .dataframe tbody tr th {\n",
       "        vertical-align: top;\n",
       "    }\n",
       "\n",
       "    .dataframe thead th {\n",
       "        text-align: right;\n",
       "    }\n",
       "</style>\n",
       "<table border=\"1\" class=\"dataframe\">\n",
       "  <thead>\n",
       "    <tr style=\"text-align: right;\">\n",
       "      <th></th>\n",
       "      <th>tipo_dato</th>\n",
       "    </tr>\n",
       "  </thead>\n",
       "  <tbody>\n",
       "    <tr>\n",
       "      <th>minutos</th>\n",
       "      <td>float64</td>\n",
       "    </tr>\n",
       "    <tr>\n",
       "      <th>metodo</th>\n",
       "      <td>object</td>\n",
       "    </tr>\n",
       "  </tbody>\n",
       "</table>\n",
       "</div>"
      ],
      "text/plain": [
       "        tipo_dato\n",
       "minutos   float64\n",
       "metodo     object"
      ]
     },
     "metadata": {},
     "output_type": "display_data"
    },
    {
     "name": "stdout",
     "output_type": "stream",
     "text": [
      "\n",
      " ..................... \n",
      "\n",
      "Los valores que tenemos para las columnas categóricas son: \n",
      "\n",
      " ..................... \n",
      "\n",
      "Los principales estadísticos de las columnas categóricas para el A son: \n"
     ]
    },
    {
     "data": {
      "text/html": [
       "<div>\n",
       "<style scoped>\n",
       "    .dataframe tbody tr th:only-of-type {\n",
       "        vertical-align: middle;\n",
       "    }\n",
       "\n",
       "    .dataframe tbody tr th {\n",
       "        vertical-align: top;\n",
       "    }\n",
       "\n",
       "    .dataframe thead th {\n",
       "        text-align: right;\n",
       "    }\n",
       "</style>\n",
       "<table border=\"1\" class=\"dataframe\">\n",
       "  <thead>\n",
       "    <tr style=\"text-align: right;\">\n",
       "      <th></th>\n",
       "      <th>count</th>\n",
       "      <th>unique</th>\n",
       "      <th>top</th>\n",
       "      <th>freq</th>\n",
       "    </tr>\n",
       "  </thead>\n",
       "  <tbody>\n",
       "    <tr>\n",
       "      <th>metodo</th>\n",
       "      <td>50</td>\n",
       "      <td>1</td>\n",
       "      <td>A</td>\n",
       "      <td>50</td>\n",
       "    </tr>\n",
       "  </tbody>\n",
       "</table>\n",
       "</div>"
      ],
      "text/plain": [
       "       count unique top freq\n",
       "metodo    50      1   A   50"
      ]
     },
     "metadata": {},
     "output_type": "display_data"
    },
    {
     "name": "stdout",
     "output_type": "stream",
     "text": [
      "\n",
      " ..................... \n",
      "\n",
      "Los principales estadísticos de las columnas numéricas para el A son: \n"
     ]
    },
    {
     "data": {
      "text/html": [
       "<div>\n",
       "<style scoped>\n",
       "    .dataframe tbody tr th:only-of-type {\n",
       "        vertical-align: middle;\n",
       "    }\n",
       "\n",
       "    .dataframe tbody tr th {\n",
       "        vertical-align: top;\n",
       "    }\n",
       "\n",
       "    .dataframe thead th {\n",
       "        text-align: right;\n",
       "    }\n",
       "</style>\n",
       "<table border=\"1\" class=\"dataframe\">\n",
       "  <thead>\n",
       "    <tr style=\"text-align: right;\">\n",
       "      <th></th>\n",
       "      <th>count</th>\n",
       "      <th>mean</th>\n",
       "      <th>std</th>\n",
       "      <th>min</th>\n",
       "      <th>25%</th>\n",
       "      <th>50%</th>\n",
       "      <th>75%</th>\n",
       "      <th>max</th>\n",
       "    </tr>\n",
       "  </thead>\n",
       "  <tbody>\n",
       "    <tr>\n",
       "      <th>minutos</th>\n",
       "      <td>50.0</td>\n",
       "      <td>4.720512</td>\n",
       "      <td>2.102454</td>\n",
       "      <td>0.130465</td>\n",
       "      <td>3.312806</td>\n",
       "      <td>4.690071</td>\n",
       "      <td>6.005251</td>\n",
       "      <td>9.584416</td>\n",
       "    </tr>\n",
       "  </tbody>\n",
       "</table>\n",
       "</div>"
      ],
      "text/plain": [
       "         count      mean       std       min       25%       50%       75%  \\\n",
       "minutos   50.0  4.720512  2.102454  0.130465  3.312806  4.690071  6.005251   \n",
       "\n",
       "              max  \n",
       "minutos  9.584416  "
      ]
     },
     "metadata": {},
     "output_type": "display_data"
    },
    {
     "name": "stdout",
     "output_type": "stream",
     "text": [
      "\n",
      " ..................... \n",
      "\n",
      "Los principales estadísticos de las columnas categóricas para el B son: \n"
     ]
    },
    {
     "data": {
      "text/html": [
       "<div>\n",
       "<style scoped>\n",
       "    .dataframe tbody tr th:only-of-type {\n",
       "        vertical-align: middle;\n",
       "    }\n",
       "\n",
       "    .dataframe tbody tr th {\n",
       "        vertical-align: top;\n",
       "    }\n",
       "\n",
       "    .dataframe thead th {\n",
       "        text-align: right;\n",
       "    }\n",
       "</style>\n",
       "<table border=\"1\" class=\"dataframe\">\n",
       "  <thead>\n",
       "    <tr style=\"text-align: right;\">\n",
       "      <th></th>\n",
       "      <th>count</th>\n",
       "      <th>unique</th>\n",
       "      <th>top</th>\n",
       "      <th>freq</th>\n",
       "    </tr>\n",
       "  </thead>\n",
       "  <tbody>\n",
       "    <tr>\n",
       "      <th>metodo</th>\n",
       "      <td>50</td>\n",
       "      <td>1</td>\n",
       "      <td>B</td>\n",
       "      <td>50</td>\n",
       "    </tr>\n",
       "  </tbody>\n",
       "</table>\n",
       "</div>"
      ],
      "text/plain": [
       "       count unique top freq\n",
       "metodo    50      1   B   50"
      ]
     },
     "metadata": {},
     "output_type": "display_data"
    },
    {
     "name": "stdout",
     "output_type": "stream",
     "text": [
      "\n",
      " ..................... \n",
      "\n",
      "Los principales estadísticos de las columnas numéricas para el B son: \n"
     ]
    },
    {
     "data": {
      "text/html": [
       "<div>\n",
       "<style scoped>\n",
       "    .dataframe tbody tr th:only-of-type {\n",
       "        vertical-align: middle;\n",
       "    }\n",
       "\n",
       "    .dataframe tbody tr th {\n",
       "        vertical-align: top;\n",
       "    }\n",
       "\n",
       "    .dataframe thead th {\n",
       "        text-align: right;\n",
       "    }\n",
       "</style>\n",
       "<table border=\"1\" class=\"dataframe\">\n",
       "  <thead>\n",
       "    <tr style=\"text-align: right;\">\n",
       "      <th></th>\n",
       "      <th>count</th>\n",
       "      <th>mean</th>\n",
       "      <th>std</th>\n",
       "      <th>min</th>\n",
       "      <th>25%</th>\n",
       "      <th>50%</th>\n",
       "      <th>75%</th>\n",
       "      <th>max</th>\n",
       "    </tr>\n",
       "  </thead>\n",
       "  <tbody>\n",
       "    <tr>\n",
       "      <th>minutos</th>\n",
       "      <td>50.0</td>\n",
       "      <td>4.364523</td>\n",
       "      <td>2.085242</td>\n",
       "      <td>-0.818899</td>\n",
       "      <td>3.597334</td>\n",
       "      <td>4.506685</td>\n",
       "      <td>5.825817</td>\n",
       "      <td>7.668974</td>\n",
       "    </tr>\n",
       "  </tbody>\n",
       "</table>\n",
       "</div>"
      ],
      "text/plain": [
       "         count      mean       std       min       25%       50%       75%  \\\n",
       "minutos   50.0  4.364523  2.085242 -0.818899  3.597334  4.506685  5.825817   \n",
       "\n",
       "              max  \n",
       "minutos  7.668974  "
      ]
     },
     "metadata": {},
     "output_type": "display_data"
    },
    {
     "name": "stdout",
     "output_type": "stream",
     "text": [
      "\n",
      " ..................... \n",
      "\n",
      "Los principales estadísticos de las columnas categóricas para el C son: \n"
     ]
    },
    {
     "data": {
      "text/html": [
       "<div>\n",
       "<style scoped>\n",
       "    .dataframe tbody tr th:only-of-type {\n",
       "        vertical-align: middle;\n",
       "    }\n",
       "\n",
       "    .dataframe tbody tr th {\n",
       "        vertical-align: top;\n",
       "    }\n",
       "\n",
       "    .dataframe thead th {\n",
       "        text-align: right;\n",
       "    }\n",
       "</style>\n",
       "<table border=\"1\" class=\"dataframe\">\n",
       "  <thead>\n",
       "    <tr style=\"text-align: right;\">\n",
       "      <th></th>\n",
       "      <th>count</th>\n",
       "      <th>unique</th>\n",
       "      <th>top</th>\n",
       "      <th>freq</th>\n",
       "    </tr>\n",
       "  </thead>\n",
       "  <tbody>\n",
       "    <tr>\n",
       "      <th>metodo</th>\n",
       "      <td>50</td>\n",
       "      <td>1</td>\n",
       "      <td>C</td>\n",
       "      <td>50</td>\n",
       "    </tr>\n",
       "  </tbody>\n",
       "</table>\n",
       "</div>"
      ],
      "text/plain": [
       "       count unique top freq\n",
       "metodo    50      1   C   50"
      ]
     },
     "metadata": {},
     "output_type": "display_data"
    },
    {
     "name": "stdout",
     "output_type": "stream",
     "text": [
      "\n",
      " ..................... \n",
      "\n",
      "Los principales estadísticos de las columnas numéricas para el C son: \n"
     ]
    },
    {
     "data": {
      "text/html": [
       "<div>\n",
       "<style scoped>\n",
       "    .dataframe tbody tr th:only-of-type {\n",
       "        vertical-align: middle;\n",
       "    }\n",
       "\n",
       "    .dataframe tbody tr th {\n",
       "        vertical-align: top;\n",
       "    }\n",
       "\n",
       "    .dataframe thead th {\n",
       "        text-align: right;\n",
       "    }\n",
       "</style>\n",
       "<table border=\"1\" class=\"dataframe\">\n",
       "  <thead>\n",
       "    <tr style=\"text-align: right;\">\n",
       "      <th></th>\n",
       "      <th>count</th>\n",
       "      <th>mean</th>\n",
       "      <th>std</th>\n",
       "      <th>min</th>\n",
       "      <th>25%</th>\n",
       "      <th>50%</th>\n",
       "      <th>75%</th>\n",
       "      <th>max</th>\n",
       "    </tr>\n",
       "  </thead>\n",
       "  <tbody>\n",
       "    <tr>\n",
       "      <th>minutos</th>\n",
       "      <td>50.0</td>\n",
       "      <td>5.600274</td>\n",
       "      <td>2.329937</td>\n",
       "      <td>1.334696</td>\n",
       "      <td>4.071824</td>\n",
       "      <td>5.064969</td>\n",
       "      <td>6.976655</td>\n",
       "      <td>12.059491</td>\n",
       "    </tr>\n",
       "  </tbody>\n",
       "</table>\n",
       "</div>"
      ],
      "text/plain": [
       "         count      mean       std       min       25%       50%       75%  \\\n",
       "minutos   50.0  5.600274  2.329937  1.334696  4.071824  5.064969  6.976655   \n",
       "\n",
       "               max  \n",
       "minutos  12.059491  "
      ]
     },
     "metadata": {},
     "output_type": "display_data"
    }
   ],
   "source": [
    "sa.exploracion_dataframe(df, \"metodo\")"
   ]
  },
  {
   "cell_type": "markdown",
   "metadata": {},
   "source": [
    "Nos hemos dado cuenta de que hay valores negativos, estos representan tiempo de espera de las máquinas ya que se han roto o ha ocurrido algún imprevisto."
   ]
  },
  {
   "cell_type": "code",
   "execution_count": 78,
   "metadata": {},
   "outputs": [
    {
     "data": {
      "text/html": [
       "<div>\n",
       "<style scoped>\n",
       "    .dataframe tbody tr th:only-of-type {\n",
       "        vertical-align: middle;\n",
       "    }\n",
       "\n",
       "    .dataframe tbody tr th {\n",
       "        vertical-align: top;\n",
       "    }\n",
       "\n",
       "    .dataframe thead th {\n",
       "        text-align: right;\n",
       "    }\n",
       "</style>\n",
       "<table border=\"1\" class=\"dataframe\">\n",
       "  <thead>\n",
       "    <tr style=\"text-align: right;\">\n",
       "      <th></th>\n",
       "      <th>minutos</th>\n",
       "      <th>metodo</th>\n",
       "    </tr>\n",
       "  </thead>\n",
       "  <tbody>\n",
       "    <tr>\n",
       "      <th>76</th>\n",
       "      <td>-0.818899</td>\n",
       "      <td>B</td>\n",
       "    </tr>\n",
       "    <tr>\n",
       "      <th>99</th>\n",
       "      <td>-0.187206</td>\n",
       "      <td>B</td>\n",
       "    </tr>\n",
       "  </tbody>\n",
       "</table>\n",
       "</div>"
      ],
      "text/plain": [
       "     minutos metodo\n",
       "76 -0.818899      B\n",
       "99 -0.187206      B"
      ]
     },
     "execution_count": 78,
     "metadata": {},
     "output_type": "execute_result"
    }
   ],
   "source": [
    "df[df[\"minutos\"]<0]"
   ]
  },
  {
   "cell_type": "markdown",
   "metadata": {},
   "source": [
    "Como son tiempos que aumentan el tiempo de produccuón del producto los añadimos:"
   ]
  },
  {
   "cell_type": "code",
   "execution_count": 79,
   "metadata": {},
   "outputs": [
    {
     "data": {
      "text/html": [
       "<div>\n",
       "<style scoped>\n",
       "    .dataframe tbody tr th:only-of-type {\n",
       "        vertical-align: middle;\n",
       "    }\n",
       "\n",
       "    .dataframe tbody tr th {\n",
       "        vertical-align: top;\n",
       "    }\n",
       "\n",
       "    .dataframe thead th {\n",
       "        text-align: right;\n",
       "    }\n",
       "</style>\n",
       "<table border=\"1\" class=\"dataframe\">\n",
       "  <thead>\n",
       "    <tr style=\"text-align: right;\">\n",
       "      <th></th>\n",
       "      <th>minutos</th>\n",
       "      <th>metodo</th>\n",
       "    </tr>\n",
       "  </thead>\n",
       "  <tbody>\n",
       "  </tbody>\n",
       "</table>\n",
       "</div>"
      ],
      "text/plain": [
       "Empty DataFrame\n",
       "Columns: [minutos, metodo]\n",
       "Index: []"
      ]
     },
     "execution_count": 79,
     "metadata": {},
     "output_type": "execute_result"
    }
   ],
   "source": [
    "df[\"minutos\"] = df[\"minutos\"].apply(lambda x: np.abs(x))\n",
    "df[df[\"minutos\"]<0]"
   ]
  },
  {
   "cell_type": "markdown",
   "metadata": {},
   "source": [
    "## Normalidad"
   ]
  },
  {
   "cell_type": "markdown",
   "metadata": {},
   "source": [
    "Veamos si podemos aplicar un test paramétrico por lo que comprobamos las asunciones. La primera es comprobar la normalidad para cada distribución de cada grupo. Como tenemos más de 30 datos usaremos la Kolmogorov."
   ]
  },
  {
   "cell_type": "code",
   "execution_count": 80,
   "metadata": {},
   "outputs": [
    {
     "name": "stdout",
     "output_type": "stream",
     "text": [
      "Kolmogorov del grupo A: KstestResult(statistic=np.float64(0.08), pvalue=np.float64(0.9636335871514038), statistic_location=np.float64(4.316081897487645), statistic_sign=np.int8(-1))\n",
      "Kolmogorov del grupo B: KstestResult(statistic=np.float64(0.10666666666666667), pvalue=np.float64(0.7691743320392471), statistic_location=np.float64(3.525986831791158), statistic_sign=np.int8(-1))\n",
      "Kolmogorov del grupo C: KstestResult(statistic=np.float64(0.14), pvalue=np.float64(0.4363535753309122), statistic_location=np.float64(4.996451763260352), statistic_sign=np.int8(1))\n"
     ]
    }
   ],
   "source": [
    "# Kolmogorov test\n",
    "np.random.seed(42)\n",
    "\n",
    "datos = df.groupby(\"metodo\")[\"minutos\"].agg([\"mean\", \"std\"])\n",
    "datos\n",
    "lista_grupos = list(df[\"metodo\"].unique())\n",
    "\n",
    "for i in range(datos.shape[0]):\n",
    "    dist = np.random.normal(loc=datos.iloc[i,0], scale = datos.iloc[i,1], size = df.shape[0])\n",
    "    res = stats.kstest(df[df[\"metodo\"]==lista_grupos[i]][\"minutos\"], dist) #Quiero que me diga si es normal o no\n",
    "    print(f\"Kolmogorov del grupo {lista_grupos[i]}: {res}\")"
   ]
  },
  {
   "cell_type": "markdown",
   "metadata": {},
   "source": [
    "Como los tres p-valores son mayores de 0.05 que es nuestro umbral, las tres variables son normales."
   ]
  },
  {
   "cell_type": "markdown",
   "metadata": {},
   "source": [
    "## Homoceidad:"
   ]
  },
  {
   "cell_type": "markdown",
   "metadata": {},
   "source": [
    "Veamos is tenemos que aplicar Levene o Barlett."
   ]
  },
  {
   "cell_type": "code",
   "execution_count": 81,
   "metadata": {},
   "outputs": [
    {
     "data": {
      "text/plain": [
       "<Axes: ylabel='Count'>"
      ]
     },
     "execution_count": 81,
     "metadata": {},
     "output_type": "execute_result"
    },
    {
     "data": {
      "image/png": "[encoded data removed]",
      "text/plain": [
       "<Figure size 640x480 with 1 Axes>"
      ]
     },
     "metadata": {},
     "output_type": "display_data"
    }
   ],
   "source": [
    "sns.histplot(df[df[\"metodo\"]==\"A\"])"
   ]
  },
  {
   "cell_type": "markdown",
   "metadata": {},
   "source": [
    "Como al ver ya la distribución del grupo A vemos que no es una normal perfecta, no necesitamos mirar las demás gráficas ya que necesitaremos aplicar Levene."
   ]
  },
  {
   "cell_type": "code",
   "execution_count": 82,
   "metadata": {},
   "outputs": [
    {
     "name": "stdout",
     "output_type": "stream",
     "text": [
      "LeveneResult(statistic=np.float64(0.6377981201955287), pvalue=np.float64(0.5299107034782387))\n"
     ]
    }
   ],
   "source": [
    "def calcular_levene(df, columna_grupos, columna_metrica):\n",
    "    unicos = df[columna_grupos].unique()\n",
    "\n",
    "    for grupo in unicos:\n",
    "        df_metrica = df[df[columna_grupos] == grupo][columna_metrica]\n",
    "        globals()[grupo] = df_metrica\n",
    "    \n",
    "    print(stats.levene(*[globals()[var] for var in unicos]))\n",
    "\n",
    "calcular_levene(df, \"metodo\", \"minutos\")"
   ]
  },
  {
   "cell_type": "markdown",
   "metadata": {},
   "source": [
    "Vemos que el p-valor es 0.5 > 0.05 por lo que confirmamos la homoceidad."
   ]
  },
  {
   "cell_type": "markdown",
   "metadata": {},
   "source": [
    "Además, los datos son independientes, por lo tanto tendremos que aplicar un test paramétrico. Como tenemos tres grupos que comparar elegiremos Anova."
   ]
  },
  {
   "cell_type": "code",
   "execution_count": 83,
   "metadata": {},
   "outputs": [
    {
     "name": "stdout",
     "output_type": "stream",
     "text": [
      "F_onewayResult(statistic=np.float64(4.160769025074968), pvalue=np.float64(0.017470102171365402))\n"
     ]
    }
   ],
   "source": [
    "def calcular_anova(df, columna_grupos, columna_metrica):\n",
    "    unicos = df[columna_grupos].unique()\n",
    "\n",
    "    for grupo in unicos:\n",
    "        df_metrica = df[df[columna_grupos] == grupo][columna_metrica]\n",
    "        globals()[grupo] = df_metrica\n",
    "    \n",
    "    print(stats.f_oneway(*[globals()[var] for var in unicos]))\n",
    "\n",
    "calcular_anova(df, \"metodo\", \"minutos\")"
   ]
  },
  {
   "cell_type": "markdown",
   "metadata": {},
   "source": [
    "Observamos que el p-valor es 0.01<0.05 por lo que sí que hay una diferencia significativa entre los grupos."
   ]
  },
  {
   "cell_type": "markdown",
   "metadata": {},
   "source": [
    "Haciendo una gráfica para observar los cuartiles y medianas de cada grupo podemos intuir que el grupo B sería el más óptimo. "
   ]
  },
  {
   "cell_type": "code",
   "execution_count": 84,
   "metadata": {},
   "outputs": [
    {
     "data": {
      "text/plain": [
       "<Axes: xlabel='metodo', ylabel='minutos'>"
      ]
     },
     "execution_count": 84,
     "metadata": {},
     "output_type": "execute_result"
    },
    {
     "data": {
      "image/png": "[encoded data removed]",
      "text/plain": [
       "<Figure size 640x480 with 1 Axes>"
      ]
     },
     "metadata": {},
     "output_type": "display_data"
    }
   ],
   "source": [
    "sns.boxplot(df, x=\"metodo\", y=\"minutos\", hue=\"metodo\")"
   ]
  },
  {
   "cell_type": "markdown",
   "metadata": {},
   "source": [
    "Viendo los datos más en detalle:"
   ]
  },
  {
   "cell_type": "code",
   "execution_count": 85,
   "metadata": {},
   "outputs": [
    {
     "name": "stdout",
     "output_type": "stream",
     "text": [
      "Los principales estadísticos de las columnas categóricas para el A son: \n"
     ]
    },
    {
     "data": {
      "text/html": [
       "<div>\n",
       "<style scoped>\n",
       "    .dataframe tbody tr th:only-of-type {\n",
       "        vertical-align: middle;\n",
       "    }\n",
       "\n",
       "    .dataframe tbody tr th {\n",
       "        vertical-align: top;\n",
       "    }\n",
       "\n",
       "    .dataframe thead th {\n",
       "        text-align: right;\n",
       "    }\n",
       "</style>\n",
       "<table border=\"1\" class=\"dataframe\">\n",
       "  <thead>\n",
       "    <tr style=\"text-align: right;\">\n",
       "      <th></th>\n",
       "      <th>count</th>\n",
       "      <th>mean</th>\n",
       "      <th>std</th>\n",
       "      <th>min</th>\n",
       "      <th>25%</th>\n",
       "      <th>50%</th>\n",
       "      <th>75%</th>\n",
       "      <th>max</th>\n",
       "    </tr>\n",
       "  </thead>\n",
       "  <tbody>\n",
       "    <tr>\n",
       "      <th>minutos</th>\n",
       "      <td>50.0</td>\n",
       "      <td>4.720512</td>\n",
       "      <td>2.102454</td>\n",
       "      <td>0.130465</td>\n",
       "      <td>3.312806</td>\n",
       "      <td>4.690071</td>\n",
       "      <td>6.005251</td>\n",
       "      <td>9.584416</td>\n",
       "    </tr>\n",
       "  </tbody>\n",
       "</table>\n",
       "</div>"
      ],
      "text/plain": [
       "         count      mean       std       min       25%       50%       75%  \\\n",
       "minutos   50.0  4.720512  2.102454  0.130465  3.312806  4.690071  6.005251   \n",
       "\n",
       "              max  \n",
       "minutos  9.584416  "
      ]
     },
     "metadata": {},
     "output_type": "display_data"
    },
    {
     "name": "stdout",
     "output_type": "stream",
     "text": [
      "Los principales estadísticos de las columnas categóricas para el B son: \n"
     ]
    },
    {
     "data": {
      "text/html": [
       "<div>\n",
       "<style scoped>\n",
       "    .dataframe tbody tr th:only-of-type {\n",
       "        vertical-align: middle;\n",
       "    }\n",
       "\n",
       "    .dataframe tbody tr th {\n",
       "        vertical-align: top;\n",
       "    }\n",
       "\n",
       "    .dataframe thead th {\n",
       "        text-align: right;\n",
       "    }\n",
       "</style>\n",
       "<table border=\"1\" class=\"dataframe\">\n",
       "  <thead>\n",
       "    <tr style=\"text-align: right;\">\n",
       "      <th></th>\n",
       "      <th>count</th>\n",
       "      <th>mean</th>\n",
       "      <th>std</th>\n",
       "      <th>min</th>\n",
       "      <th>25%</th>\n",
       "      <th>50%</th>\n",
       "      <th>75%</th>\n",
       "      <th>max</th>\n",
       "    </tr>\n",
       "  </thead>\n",
       "  <tbody>\n",
       "    <tr>\n",
       "      <th>minutos</th>\n",
       "      <td>50.0</td>\n",
       "      <td>4.404768</td>\n",
       "      <td>1.997027</td>\n",
       "      <td>0.187206</td>\n",
       "      <td>3.597334</td>\n",
       "      <td>4.506685</td>\n",
       "      <td>5.825817</td>\n",
       "      <td>7.668974</td>\n",
       "    </tr>\n",
       "  </tbody>\n",
       "</table>\n",
       "</div>"
      ],
      "text/plain": [
       "         count      mean       std       min       25%       50%       75%  \\\n",
       "minutos   50.0  4.404768  1.997027  0.187206  3.597334  4.506685  5.825817   \n",
       "\n",
       "              max  \n",
       "minutos  7.668974  "
      ]
     },
     "metadata": {},
     "output_type": "display_data"
    },
    {
     "name": "stdout",
     "output_type": "stream",
     "text": [
      "Los principales estadísticos de las columnas categóricas para el C son: \n"
     ]
    },
    {
     "data": {
      "text/html": [
       "<div>\n",
       "<style scoped>\n",
       "    .dataframe tbody tr th:only-of-type {\n",
       "        vertical-align: middle;\n",
       "    }\n",
       "\n",
       "    .dataframe tbody tr th {\n",
       "        vertical-align: top;\n",
       "    }\n",
       "\n",
       "    .dataframe thead th {\n",
       "        text-align: right;\n",
       "    }\n",
       "</style>\n",
       "<table border=\"1\" class=\"dataframe\">\n",
       "  <thead>\n",
       "    <tr style=\"text-align: right;\">\n",
       "      <th></th>\n",
       "      <th>count</th>\n",
       "      <th>mean</th>\n",
       "      <th>std</th>\n",
       "      <th>min</th>\n",
       "      <th>25%</th>\n",
       "      <th>50%</th>\n",
       "      <th>75%</th>\n",
       "      <th>max</th>\n",
       "    </tr>\n",
       "  </thead>\n",
       "  <tbody>\n",
       "    <tr>\n",
       "      <th>minutos</th>\n",
       "      <td>50.0</td>\n",
       "      <td>5.600274</td>\n",
       "      <td>2.329937</td>\n",
       "      <td>1.334696</td>\n",
       "      <td>4.071824</td>\n",
       "      <td>5.064969</td>\n",
       "      <td>6.976655</td>\n",
       "      <td>12.059491</td>\n",
       "    </tr>\n",
       "  </tbody>\n",
       "</table>\n",
       "</div>"
      ],
      "text/plain": [
       "         count      mean       std       min       25%       50%       75%  \\\n",
       "minutos   50.0  5.600274  2.329937  1.334696  4.071824  5.064969  6.976655   \n",
       "\n",
       "               max  \n",
       "minutos  12.059491  "
      ]
     },
     "metadata": {},
     "output_type": "display_data"
    }
   ],
   "source": [
    "for categoria in df[\"metodo\"].unique():\n",
    "        dataframe_filtrado = df[df[\"metodo\"] == categoria]\n",
    "    \n",
    "        print(f\"Los principales estadísticos de las columnas categóricas para el {categoria.upper()} son: \")\n",
    "        display(dataframe_filtrado.describe().T)"
   ]
  },
  {
   "cell_type": "markdown",
   "metadata": {},
   "source": [
    "Podemos observar que tanto la media como la mediana del grupo B es mejor, además tiene el mínimo y el máximo más bajo. Por lo que respalda nuestra idea de que el grupo B sería el más óptimo."
   ]
  },
  {
   "cell_type": "markdown",
   "metadata": {},
   "source": [
    "#### Ejercicio 2: Densidad de Fluidos \n",
    "\n",
    "\n",
    "La convección es un mecanismo fundamental de transferencia de calor en fluidos, que ocurre debido a las variaciones en la densidad provocadas por diferencias de temperatura. Este fenómeno se manifiesta cuando las porciones del fluido que se calientan, al volverse menos densas, ascienden hacia regiones de menor temperatura, mientras que las porciones más frías, al ser más densas, descienden hacia las zonas donde la temperatura es más alta. Este movimiento continuo da lugar a las llamadas corrientes de convección, las cuales desempeñan un papel crucial en la distribución homogénea de la temperatura dentro del fluido, promoviendo un equilibrio térmico.\n",
    "\n",
    "En este contexto, se ha diseñado y ejecutado un experimento con el propósito de investigar cómo se ve afectada la densidad de un fluido cuando se incrementa la temperatura en una región específica del sistema; por tanto se asegura la independencia y aleatoriedad del mismo. El objetivo del experimento es comprender en detalle las modificaciones en la densidad que resultan de este aumento térmico y cómo estas afectan el comportamiento global del fluido.\n",
    "\n",
    "\n",
    "1. Analiza las suposiciones del modelo: ¿Se cumplen las condiciones de homocedasticidad, independencia y normalidad?\n",
    "2. ¿Tiene la temperatura un impacto notable en la densidad del fluido?\n",
    "3. ¿Es posible concluir que las temperaturas de 100 y 125 provocan, en promedio, una menor densidad en el fluido comparadas con las temperaturas de 150 y 175?"
   ]
  },
  {
   "cell_type": "code",
   "execution_count": 86,
   "metadata": {},
   "outputs": [
    {
     "data": {
      "text/html": [
       "<div>\n",
       "<style scoped>\n",
       "    .dataframe tbody tr th:only-of-type {\n",
       "        vertical-align: middle;\n",
       "    }\n",
       "\n",
       "    .dataframe tbody tr th {\n",
       "        vertical-align: top;\n",
       "    }\n",
       "\n",
       "    .dataframe thead th {\n",
       "        text-align: right;\n",
       "    }\n",
       "</style>\n",
       "<table border=\"1\" class=\"dataframe\">\n",
       "  <thead>\n",
       "    <tr style=\"text-align: right;\">\n",
       "      <th></th>\n",
       "      <th>temperatura</th>\n",
       "      <th>densidad</th>\n",
       "    </tr>\n",
       "  </thead>\n",
       "  <tbody>\n",
       "    <tr>\n",
       "      <th>0</th>\n",
       "      <td>100</td>\n",
       "      <td>21.790655</td>\n",
       "    </tr>\n",
       "    <tr>\n",
       "      <th>1</th>\n",
       "      <td>100</td>\n",
       "      <td>21.725900</td>\n",
       "    </tr>\n",
       "    <tr>\n",
       "      <th>2</th>\n",
       "      <td>100</td>\n",
       "      <td>21.806052</td>\n",
       "    </tr>\n",
       "    <tr>\n",
       "      <th>3</th>\n",
       "      <td>100</td>\n",
       "      <td>21.895319</td>\n",
       "    </tr>\n",
       "    <tr>\n",
       "      <th>4</th>\n",
       "      <td>100</td>\n",
       "      <td>21.716121</td>\n",
       "    </tr>\n",
       "    <tr>\n",
       "      <th>...</th>\n",
       "      <td>...</td>\n",
       "      <td>...</td>\n",
       "    </tr>\n",
       "    <tr>\n",
       "      <th>395</th>\n",
       "      <td>175</td>\n",
       "      <td>21.829916</td>\n",
       "    </tr>\n",
       "    <tr>\n",
       "      <th>396</th>\n",
       "      <td>175</td>\n",
       "      <td>21.670612</td>\n",
       "    </tr>\n",
       "    <tr>\n",
       "      <th>397</th>\n",
       "      <td>175</td>\n",
       "      <td>22.063380</td>\n",
       "    </tr>\n",
       "    <tr>\n",
       "      <th>398</th>\n",
       "      <td>175</td>\n",
       "      <td>21.875332</td>\n",
       "    </tr>\n",
       "    <tr>\n",
       "      <th>399</th>\n",
       "      <td>175</td>\n",
       "      <td>22.048518</td>\n",
       "    </tr>\n",
       "  </tbody>\n",
       "</table>\n",
       "<p>400 rows × 2 columns</p>\n",
       "</div>"
      ],
      "text/plain": [
       "     temperatura   densidad\n",
       "0            100  21.790655\n",
       "1            100  21.725900\n",
       "2            100  21.806052\n",
       "3            100  21.895319\n",
       "4            100  21.716121\n",
       "..           ...        ...\n",
       "395          175  21.829916\n",
       "396          175  21.670612\n",
       "397          175  22.063380\n",
       "398          175  21.875332\n",
       "399          175  22.048518\n",
       "\n",
       "[400 rows x 2 columns]"
      ]
     },
     "execution_count": 86,
     "metadata": {},
     "output_type": "execute_result"
    }
   ],
   "source": [
    "df_fluidos = pd.read_csv(\"../datos/densidad_fluidos.csv\")\n",
    "df_fluidos"
   ]
  },
  {
   "cell_type": "markdown",
   "metadata": {},
   "source": [
    "Hagamos una pequeña exploración:"
   ]
  },
  {
   "cell_type": "code",
   "execution_count": 87,
   "metadata": {},
   "outputs": [
    {
     "name": "stdout",
     "output_type": "stream",
     "text": [
      "El número de datos es 400 y el de columnas es 2\n",
      "Los duplicados que tenemos en el conjunto de datos son: 0\n",
      "\n",
      "Los tipos de las columnas son:\n"
     ]
    },
    {
     "data": {
      "text/html": [
       "<div>\n",
       "<style scoped>\n",
       "    .dataframe tbody tr th:only-of-type {\n",
       "        vertical-align: middle;\n",
       "    }\n",
       "\n",
       "    .dataframe tbody tr th {\n",
       "        vertical-align: top;\n",
       "    }\n",
       "\n",
       "    .dataframe thead th {\n",
       "        text-align: right;\n",
       "    }\n",
       "</style>\n",
       "<table border=\"1\" class=\"dataframe\">\n",
       "  <thead>\n",
       "    <tr style=\"text-align: right;\">\n",
       "      <th></th>\n",
       "      <th>tipo_dato</th>\n",
       "    </tr>\n",
       "  </thead>\n",
       "  <tbody>\n",
       "    <tr>\n",
       "      <th>temperatura</th>\n",
       "      <td>int64</td>\n",
       "    </tr>\n",
       "    <tr>\n",
       "      <th>densidad</th>\n",
       "      <td>float64</td>\n",
       "    </tr>\n",
       "  </tbody>\n",
       "</table>\n",
       "</div>"
      ],
      "text/plain": [
       "            tipo_dato\n",
       "temperatura     int64\n",
       "densidad      float64"
      ]
     },
     "metadata": {},
     "output_type": "display_data"
    },
    {
     "data": {
      "text/html": [
       "<div>\n",
       "<style scoped>\n",
       "    .dataframe tbody tr th:only-of-type {\n",
       "        vertical-align: middle;\n",
       "    }\n",
       "\n",
       "    .dataframe tbody tr th {\n",
       "        vertical-align: top;\n",
       "    }\n",
       "\n",
       "    .dataframe thead th {\n",
       "        text-align: right;\n",
       "    }\n",
       "</style>\n",
       "<table border=\"1\" class=\"dataframe\">\n",
       "  <thead>\n",
       "    <tr style=\"text-align: right;\">\n",
       "      <th></th>\n",
       "      <th>count</th>\n",
       "      <th>mean</th>\n",
       "      <th>std</th>\n",
       "      <th>min</th>\n",
       "      <th>25%</th>\n",
       "      <th>50%</th>\n",
       "      <th>75%</th>\n",
       "      <th>max</th>\n",
       "    </tr>\n",
       "  </thead>\n",
       "  <tbody>\n",
       "    <tr>\n",
       "      <th>temperatura</th>\n",
       "      <td>400.0</td>\n",
       "      <td>137.500000</td>\n",
       "      <td>27.985854</td>\n",
       "      <td>100.000000</td>\n",
       "      <td>118.75000</td>\n",
       "      <td>137.500000</td>\n",
       "      <td>156.250000</td>\n",
       "      <td>175.000000</td>\n",
       "    </tr>\n",
       "    <tr>\n",
       "      <th>densidad</th>\n",
       "      <td>400.0</td>\n",
       "      <td>21.733028</td>\n",
       "      <td>0.169214</td>\n",
       "      <td>21.323342</td>\n",
       "      <td>21.61463</td>\n",
       "      <td>21.742521</td>\n",
       "      <td>21.843457</td>\n",
       "      <td>22.170432</td>\n",
       "    </tr>\n",
       "  </tbody>\n",
       "</table>\n",
       "</div>"
      ],
      "text/plain": [
       "             count        mean        std         min        25%         50%  \\\n",
       "temperatura  400.0  137.500000  27.985854  100.000000  118.75000  137.500000   \n",
       "densidad     400.0   21.733028   0.169214   21.323342   21.61463   21.742521   \n",
       "\n",
       "                    75%         max  \n",
       "temperatura  156.250000  175.000000  \n",
       "densidad      21.843457   22.170432  "
      ]
     },
     "execution_count": 87,
     "metadata": {},
     "output_type": "execute_result"
    }
   ],
   "source": [
    "\n",
    "print(f\"El número de datos es {df_fluidos.shape[0]} y el de columnas es {df_fluidos.shape[1]}\")\n",
    "print(f\"Los duplicados que tenemos en el conjunto de datos son: {df_fluidos.duplicated().sum()}\")\n",
    "\n",
    "\n",
    "print(f\"\\nLos tipos de las columnas son:\")\n",
    "display(pd.DataFrame(df_fluidos.dtypes, columns = [\"tipo_dato\"]))\n",
    "\n",
    "df_fluidos.describe().T"
   ]
  },
  {
   "cell_type": "code",
   "execution_count": 88,
   "metadata": {},
   "outputs": [
    {
     "data": {
      "text/plain": [
       "array([100, 125, 150, 175])"
      ]
     },
     "execution_count": 88,
     "metadata": {},
     "output_type": "execute_result"
    }
   ],
   "source": [
    "df_fluidos[\"temperatura\"].unique()"
   ]
  },
  {
   "cell_type": "markdown",
   "metadata": {},
   "source": [
    "Observamos que la densidad no tiene un rango nada amplio, su valor mínimo es 21.32 y su valor máximo es 22.17"
   ]
  },
  {
   "cell_type": "markdown",
   "metadata": {},
   "source": [
    "Veamos si cumple las asunciones para poder aplicar un test paramétrico."
   ]
  },
  {
   "cell_type": "markdown",
   "metadata": {},
   "source": [
    "### Normalidad"
   ]
  },
  {
   "cell_type": "markdown",
   "metadata": {},
   "source": [
    "Como tenemos más de 30 datos usaremos la Kolmogorov."
   ]
  },
  {
   "cell_type": "code",
   "execution_count": 89,
   "metadata": {},
   "outputs": [
    {
     "name": "stdout",
     "output_type": "stream",
     "text": [
      "Kolmogorov del grupo 100: KstestResult(statistic=np.float64(0.0475), pvalue=np.float64(0.9916523423030328), statistic_location=np.float64(21.82235226299658), statistic_sign=np.int8(-1))\n",
      "Kolmogorov del grupo 125: KstestResult(statistic=np.float64(0.07), pvalue=np.float64(0.8131232081337524), statistic_location=np.float64(21.545675010423196), statistic_sign=np.int8(-1))\n",
      "Kolmogorov del grupo 150: KstestResult(statistic=np.float64(0.0975), pvalue=np.float64(0.41724457668774784), statistic_location=np.float64(21.87861989339484), statistic_sign=np.int8(1))\n",
      "Kolmogorov del grupo 175: KstestResult(statistic=np.float64(0.0575), pvalue=np.float64(0.946417904256311), statistic_location=np.float64(21.81826182408329), statistic_sign=np.int8(1))\n"
     ]
    }
   ],
   "source": [
    "# Kolmogorov test\n",
    "np.random.seed(42)\n",
    "\n",
    "def calculo_kolmogorov(df, grupo, columna):\n",
    "    datos = df.groupby(grupo)[columna].agg([\"mean\", \"std\"])\n",
    "    datos\n",
    "    lista_grupos = list(df[grupo].unique())\n",
    "\n",
    "    for i in range(datos.shape[0]):\n",
    "        dist = np.random.normal(loc=datos.iloc[i,0], scale = datos.iloc[i,1], size = df.shape[0])\n",
    "        res = stats.kstest(df[df[grupo]==lista_grupos[i]][columna], dist) #Quiero que me diga si es normal o no\n",
    "        print(f\"Kolmogorov del grupo {lista_grupos[i]}: {res}\")\n",
    "\n",
    "calculo_kolmogorov(df_fluidos, \"temperatura\", \"densidad\")"
   ]
  },
  {
   "cell_type": "markdown",
   "metadata": {},
   "source": [
    "Como todos los p-values son mayores que 0.05 entonces todos los grupos tienen una distribución normal y podemos continuar comprobando la homoceidad."
   ]
  },
  {
   "cell_type": "markdown",
   "metadata": {},
   "source": [
    "### Homoceidad"
   ]
  },
  {
   "cell_type": "markdown",
   "metadata": {},
   "source": [
    "Veamos si tenemos que aplicar Levene o Barlett."
   ]
  },
  {
   "cell_type": "code",
   "execution_count": 96,
   "metadata": {},
   "outputs": [
    {
     "data": {
      "image/png": "[encoded data removed]",
      "text/plain": [
       "<Figure size 1500x1000 with 4 Axes>"
      ]
     },
     "metadata": {},
     "output_type": "display_data"
    }
   ],
   "source": [
    "fig, axes = plt.subplots(2,2, figsize=(15,10))\n",
    "axes= axes.flat\n",
    "\n",
    "lista_temperaturas = list(df_fluidos[\"temperatura\"].unique())\n",
    "lista_temperaturas = [int(elem) for elem in lista_temperaturas]\n",
    "lista_temperaturas\n",
    "\n",
    "for i,temp in enumerate(lista_temperaturas):\n",
    "    sns.histplot(df_fluidos[df_fluidos[\"temperatura\"]==temp], x =\"densidad\", ax=axes[i])\n",
    "\n",
    "plt.tight_layout()  # Ajustar el layout para que no se solapen\n",
    "plt.show()\n"
   ]
  },
  {
   "cell_type": "markdown",
   "metadata": {},
   "source": [
    "Como podemos observar las gráficas se aproximana una normal pero no es una normal perfecta por lo que usaremos Levene."
   ]
  },
  {
   "cell_type": "code",
   "execution_count": 91,
   "metadata": {},
   "outputs": [
    {
     "name": "stdout",
     "output_type": "stream",
     "text": [
      "LeveneResult(statistic=np.float64(1.3647908525254946), pvalue=np.float64(0.25311302633232835))\n"
     ]
    }
   ],
   "source": [
    "def calcular_levene(df, columna_grupos, columna_metrica):\n",
    "    unicos = df[columna_grupos].unique()\n",
    "\n",
    "    for grupo in unicos:\n",
    "        df_metrica = df[df[columna_grupos] == grupo][columna_metrica]\n",
    "        globals()[grupo] = df_metrica\n",
    "    \n",
    "    print(stats.levene(*[globals()[var] for var in unicos]))\n",
    "\n",
    "calcular_levene(df_fluidos, \"temperatura\", \"densidad\")"
   ]
  },
  {
   "cell_type": "markdown",
   "metadata": {},
   "source": [
    "El p-valor al ser 0.25 > 0.05 confirma la homoceidad."
   ]
  },
  {
   "cell_type": "markdown",
   "metadata": {},
   "source": [
    "Como las temperaturas y la densidad para cada una son independientes unas de otras podemos aplicar un test paramétrico. En este caso al tener 4 grupos aplicaremos un Anova."
   ]
  },
  {
   "cell_type": "code",
   "execution_count": 121,
   "metadata": {},
   "outputs": [
    {
     "name": "stdout",
     "output_type": "stream",
     "text": [
      "F_onewayResult(statistic=np.float64(212.84277610615817), pvalue=np.float64(3.327798065119595e-82))\n"
     ]
    }
   ],
   "source": [
    "def calcular_anova(df, columna_grupos, columna_metrica):\n",
    "    unicos = df[columna_grupos].unique()\n",
    "\n",
    "    for grupo in unicos:\n",
    "        df_metrica = df[df[columna_grupos] == grupo][columna_metrica]\n",
    "        globals()[grupo] = df_metrica\n",
    "    \n",
    "    print(stats.f_oneway(*[globals()[var] for var in unicos]))\n",
    "\n",
    "calcular_anova(df_fluidos, \"temperatura\", \"densidad\")"
   ]
  },
  {
   "cell_type": "markdown",
   "metadata": {},
   "source": [
    "El p-valor al ser mayor que 0.05 indica que sí que hay una diferencia significativa entre los grupos."
   ]
  },
  {
   "cell_type": "markdown",
   "metadata": {},
   "source": [
    "Veamos si las temperaturas de 100 y 125 provocan, en promedio, una menor densidad en el fluido comparadas con las temperaturas de 150 y 175\n"
   ]
  },
  {
   "cell_type": "code",
   "execution_count": 101,
   "metadata": {},
   "outputs": [],
   "source": [
    "df_A = pd.concat([df_fluidos[df_fluidos[\"temperatura\"]==100], df_fluidos[df_fluidos[\"temperatura\"]==125]])\n",
    "df_B = pd.concat([df_fluidos[df_fluidos[\"temperatura\"]==150], df_fluidos[df_fluidos[\"temperatura\"]==175]])"
   ]
  },
  {
   "cell_type": "code",
   "execution_count": 105,
   "metadata": {},
   "outputs": [],
   "source": [
    "df_A[\"temperatura\"]=\"grupoA\"\n",
    "df_B[\"temperatura\"]=\"grupoB\"\n",
    "df_total = pd.concat([df_A, df_B])"
   ]
  },
  {
   "cell_type": "code",
   "execution_count": 108,
   "metadata": {},
   "outputs": [
    {
     "data": {
      "text/plain": [
       "<Axes: xlabel='temperatura', ylabel='densidad'>"
      ]
     },
     "execution_count": 108,
     "metadata": {},
     "output_type": "execute_result"
    },
    {
     "data": {
      "image/png": "[encoded data removed]",
      "text/plain": [
       "<Figure size 640x480 with 1 Axes>"
      ]
     },
     "metadata": {},
     "output_type": "display_data"
    }
   ],
   "source": [
    "sns.boxplot(df_total, x=\"temperatura\", y=\"densidad\")"
   ]
  },
  {
   "cell_type": "code",
   "execution_count": 113,
   "metadata": {},
   "outputs": [
    {
     "data": {
      "text/html": [
       "<div>\n",
       "<style scoped>\n",
       "    .dataframe tbody tr th:only-of-type {\n",
       "        vertical-align: middle;\n",
       "    }\n",
       "\n",
       "    .dataframe tbody tr th {\n",
       "        vertical-align: top;\n",
       "    }\n",
       "\n",
       "    .dataframe thead th {\n",
       "        text-align: right;\n",
       "    }\n",
       "</style>\n",
       "<table border=\"1\" class=\"dataframe\">\n",
       "  <thead>\n",
       "    <tr style=\"text-align: right;\">\n",
       "      <th></th>\n",
       "      <th>count</th>\n",
       "      <th>mean</th>\n",
       "      <th>std</th>\n",
       "      <th>min</th>\n",
       "      <th>25%</th>\n",
       "      <th>50%</th>\n",
       "      <th>75%</th>\n",
       "      <th>max</th>\n",
       "    </tr>\n",
       "  </thead>\n",
       "  <tbody>\n",
       "    <tr>\n",
       "      <th>densidad</th>\n",
       "      <td>200.0</td>\n",
       "      <td>21.630906</td>\n",
       "      <td>0.138807</td>\n",
       "      <td>21.323342</td>\n",
       "      <td>21.537102</td>\n",
       "      <td>21.622429</td>\n",
       "      <td>21.736916</td>\n",
       "      <td>21.928896</td>\n",
       "    </tr>\n",
       "  </tbody>\n",
       "</table>\n",
       "</div>"
      ],
      "text/plain": [
       "          count       mean       std        min        25%        50%  \\\n",
       "densidad  200.0  21.630906  0.138807  21.323342  21.537102  21.622429   \n",
       "\n",
       "                75%        max  \n",
       "densidad  21.736916  21.928896  "
      ]
     },
     "metadata": {},
     "output_type": "display_data"
    },
    {
     "data": {
      "text/html": [
       "<div>\n",
       "<style scoped>\n",
       "    .dataframe tbody tr th:only-of-type {\n",
       "        vertical-align: middle;\n",
       "    }\n",
       "\n",
       "    .dataframe tbody tr th {\n",
       "        vertical-align: top;\n",
       "    }\n",
       "\n",
       "    .dataframe thead th {\n",
       "        text-align: right;\n",
       "    }\n",
       "</style>\n",
       "<table border=\"1\" class=\"dataframe\">\n",
       "  <thead>\n",
       "    <tr style=\"text-align: right;\">\n",
       "      <th></th>\n",
       "      <th>count</th>\n",
       "      <th>mean</th>\n",
       "      <th>std</th>\n",
       "      <th>min</th>\n",
       "      <th>25%</th>\n",
       "      <th>50%</th>\n",
       "      <th>75%</th>\n",
       "      <th>max</th>\n",
       "    </tr>\n",
       "  </thead>\n",
       "  <tbody>\n",
       "    <tr>\n",
       "      <th>densidad</th>\n",
       "      <td>200.0</td>\n",
       "      <td>21.83515</td>\n",
       "      <td>0.131073</td>\n",
       "      <td>21.429454</td>\n",
       "      <td>21.752522</td>\n",
       "      <td>21.825754</td>\n",
       "      <td>21.920089</td>\n",
       "      <td>22.170432</td>\n",
       "    </tr>\n",
       "  </tbody>\n",
       "</table>\n",
       "</div>"
      ],
      "text/plain": [
       "          count      mean       std        min        25%        50%  \\\n",
       "densidad  200.0  21.83515  0.131073  21.429454  21.752522  21.825754   \n",
       "\n",
       "                75%        max  \n",
       "densidad  21.920089  22.170432  "
      ]
     },
     "metadata": {},
     "output_type": "display_data"
    }
   ],
   "source": [
    "display(df_A.describe().T)\n",
    "display(df_B.describe().T)\n"
   ]
  },
  {
   "cell_type": "markdown",
   "metadata": {},
   "source": [
    "Nuentra hipotesis es que las temperaturas 100 y 125 provocan en promedio una menor densidad en el fluido comparadas con las temperaturas de 150 y 170. Sin embargo haremos un test para estar totalmente seguros de que las diferencias son significativas."
   ]
  },
  {
   "cell_type": "markdown",
   "metadata": {},
   "source": [
    "- Normalidad"
   ]
  },
  {
   "cell_type": "markdown",
   "metadata": {},
   "source": [
    "Como tenemos 400 datos usaremos una Kolmogorov."
   ]
  },
  {
   "cell_type": "code",
   "execution_count": 110,
   "metadata": {},
   "outputs": [
    {
     "name": "stdout",
     "output_type": "stream",
     "text": [
      "Kolmogorov del grupo grupoA: KstestResult(statistic=np.float64(0.0875), pvalue=np.float64(0.25438687552104255), statistic_location=np.float64(21.5624776427124), statistic_sign=np.int8(1))\n",
      "Kolmogorov del grupo grupoB: KstestResult(statistic=np.float64(0.0425), pvalue=np.float64(0.9672282978991504), statistic_location=np.float64(21.95214582968895), statistic_sign=np.int8(-1))\n"
     ]
    }
   ],
   "source": [
    "calculo_kolmogorov(df_total, \"temperatura\", \"densidad\")"
   ]
  },
  {
   "cell_type": "markdown",
   "metadata": {},
   "source": [
    "Como todos los p-values son mayores que 0.05 entonces todos los grupos tienen una distribución normal y podemos continuar comprobando la homoceidad."
   ]
  },
  {
   "cell_type": "markdown",
   "metadata": {},
   "source": [
    "- Homoceidad"
   ]
  },
  {
   "cell_type": "code",
   "execution_count": 118,
   "metadata": {},
   "outputs": [
    {
     "data": {
      "image/png": "[encoded data removed]",
      "text/plain": [
       "<Figure size 1500x1000 with 2 Axes>"
      ]
     },
     "metadata": {},
     "output_type": "display_data"
    }
   ],
   "source": [
    "fig, axes = plt.subplots(1, 2, figsize=(15,10))\n",
    "axes= axes.flat\n",
    "\n",
    "lista_temperaturas = list(df_total[\"temperatura\"].unique())\n",
    "lista_temperaturas\n",
    "\n",
    "for i,temp in enumerate(lista_temperaturas):\n",
    "    sns.histplot(df_total[df_total[\"temperatura\"]==temp], x =\"densidad\", ax=axes[i])\n",
    "\n",
    "plt.tight_layout()  # Ajustar el layout para que no se solapen\n",
    "plt.show()"
   ]
  },
  {
   "cell_type": "markdown",
   "metadata": {},
   "source": [
    "Como podemos observar las gráficas se aproximana una normal pero no es una normal perfecta por lo que usaremos Levene."
   ]
  },
  {
   "cell_type": "code",
   "execution_count": 119,
   "metadata": {},
   "outputs": [
    {
     "name": "stdout",
     "output_type": "stream",
     "text": [
      "LeveneResult(statistic=np.float64(3.28938013245296), pvalue=np.float64(0.07048233198305964))\n"
     ]
    }
   ],
   "source": [
    "calcular_levene(df_total, \"temperatura\", \"densidad\")"
   ]
  },
  {
   "cell_type": "markdown",
   "metadata": {},
   "source": [
    "El p-valor al ser 0.07 > 0.05 confirma la homoceidad."
   ]
  },
  {
   "cell_type": "markdown",
   "metadata": {},
   "source": [
    "Como las temperaturas y la densidad para cada una son independientes unas de otras podemos aplicar un test paramétrico. En este caso al tener 2 grupos aplicaremos un t-student."
   ]
  },
  {
   "cell_type": "code",
   "execution_count": 122,
   "metadata": {},
   "outputs": [
    {
     "name": "stdout",
     "output_type": "stream",
     "text": [
      "TtestResult(statistic=np.float64(-15.129677894969593), pvalue=np.float64(3.563849634924047e-41), df=np.float64(398.0))\n"
     ]
    }
   ],
   "source": [
    "def calcular_anova(df, columna_grupos, columna_metrica):\n",
    "    unicos = df[columna_grupos].unique()\n",
    "\n",
    "    for grupo in unicos:\n",
    "        df_metrica = df[df[columna_grupos] == grupo][columna_metrica]\n",
    "        globals()[grupo] = df_metrica\n",
    "    \n",
    "    print(stats.ttest_ind(*[globals()[var] for var in unicos]))\n",
    "\n",
    "calcular_anova(df_total, \"temperatura\", \"densidad\")"
   ]
  },
  {
   "cell_type": "markdown",
   "metadata": {},
   "source": [
    "Como el p-valor es menor que 0.05 entonces de acepta H1, es decir, sí que hay una diferencia significativa entre los grupos. Y al ser menor la media del grupo A entonces las temperaturas de 100 y 125 provocan en promedio una menor densidad en el fluido comparadas con las temperaturas de 150 y 175."
   ]
  },
  {
   "cell_type": "code",
   "execution_count": null,
   "metadata": {},
   "outputs": [],
   "source": []
  }
 ],
 "metadata": {
  "kernelspec": {
   "display_name": "proyecto4",
   "language": "python",
   "name": "python3"
  },
  "language_info": {
   "codemirror_mode": {
    "name": "ipython",
    "version": 3
   },
   "file_extension": ".py",
   "mimetype": "text/x-python",
   "name": "python",
   "nbconvert_exporter": "python",
   "pygments_lexer": "ipython3",
   "version": "3.12.4"
  }
 },
 "nbformat": 4,
 "nbformat_minor": 2
}
